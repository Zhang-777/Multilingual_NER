{
 "cells": [
  {
   "cell_type": "code",
   "execution_count": 1,
   "metadata": {},
   "outputs": [],
   "source": [
    "import matplotlib.pyplot as plt\n",
    "import os\n",
    "import seaborn as sns\n",
    "import spacy\n",
    "from spacy.gold import GoldCorpus"
   ]
  },
  {
   "cell_type": "code",
   "execution_count": 40,
   "metadata": {},
   "outputs": [],
   "source": [
    "file_dir = '../../data/en/combined/spacy_formatted/'\n",
    "devset = 'spacy_dev_combined_std.json'\n",
    "dev_path = os.path.join(file_dir, devset)\n",
    "\n",
    "# Create a temp file (devset but with '_2' appended) and\n",
    "# replace all the 'PER' tags with 'PERSON' to match spacy NER model\n",
    "dev_path_2 = dev_path[:-5] + '_2' + dev_path[-5:]\n",
    "\n",
    "with open(dev_path) as f:\n",
    "    with open(dev_path_2, 'w') as f2:\n",
    "        f2.write(f.read().replace('-PER', '-PERSON'))"
   ]
  },
  {
   "cell_type": "code",
   "execution_count": 57,
   "metadata": {},
   "outputs": [],
   "source": [
    "nlp = spacy.load('en_core_web_lg')\n",
    "gc = GoldCorpus(dev_path_2, dev_path_2)\n",
    "docs = gc.train_docs(nlp)\n",
    "scorer = nlp.evaluate(docs)"
   ]
  },
  {
   "cell_type": "code",
   "execution_count": 101,
   "metadata": {},
   "outputs": [
    {
     "data": {
      "image/png": "[encoded data removed]",
      "text/plain": [
       "<Figure size 720x720 with 4 Axes>"
      ]
     },
     "metadata": {
      "needs_background": "light"
     },
     "output_type": "display_data"
    }
   ],
   "source": [
    "scores = scorer.scores['ents_per_type']\n",
    "overall = scorer.scores\n",
    "f, p, r = overall['ents_f'], overall['ents_p'], overall['ents_r']\n",
    "x = ['Precision', 'Recall', 'F1']\n",
    "\n",
    "fig, ax = plt.subplots(2, 2, figsize=(10, 10), sharey=True, \n",
    "                       subplot_kw={'xticklabels': x}\n",
    "                      )\n",
    "ax = ax.flatten()\n",
    "\n",
    "for a, tag in zip(ax, ['PERSON', 'LOC', 'ORG', 'OVERALL']):\n",
    "    \n",
    "    if tag == 'OVERALL':\n",
    "        y = [f, p, r]\n",
    "    else: \n",
    "        y = list(scores[tag].values())\n",
    "    \n",
    "    sns.barplot(x=x, y=y, ax=a, palette='GnBu', edgecolor='black')\n",
    "    a.set_title(str.title(tag))"
   ]
  },
  {
   "cell_type": "markdown",
   "metadata": {},
   "source": [
    "### Summary\n",
    "This dataset is a combination of the Emerging Entities data and the CONLL2003 data (and CONLL2003, the easier dataset, represents over 80% of the entities). \n",
    "\n",
    "Given that SoTA on CONLL2003 is over 95 at this point, and this is spaCy's best English model, AND that the model is trained on this specific genre of text (news and blogs), these numbers are surprising.\n",
    "\n",
    "One thing that seems particularly odd is the extremely low recall and F1 for LOC, which is not an especially difficult tag in the NER space. I'd be curious to know if there's some kind of quirk in the scoring function that's causing this - spaCy uses BILUO tags rather than BIO tags (and exact match for scoring), so this could be too strict a criteria. \n",
    "\n",
    "SpaCy's reported scores for this model:\n",
    "\n",
    "NER F 86.62\n",
    "\n",
    "NER P 87.03\n",
    "\n",
    "NER R 86.20\n",
    "\n",
    "The spaCy model wasn't trained with a MISC tag, so info on the performance there is not available.\n",
    "\n",
    "Matt Honnibal weighs in on this [here](https://github.com/explosion/spaCy/issues/2169), but he mainly talks about superficial differences (differences in labeling scheme), which have already been addressed here. He claims that it is possible to get around 92% on CONLL using the spacy model."
   ]
  },
  {
   "cell_type": "code",
   "execution_count": null,
   "metadata": {},
   "outputs": [],
   "source": []
  }
 ],
 "metadata": {
  "kernelspec": {
   "display_name": "nlp",
   "language": "python",
   "name": "nlp"
  },
  "language_info": {
   "codemirror_mode": {
    "name": "ipython",
    "version": 3
   },
   "file_extension": ".py",
   "mimetype": "text/x-python",
   "name": "python",
   "nbconvert_exporter": "python",
   "pygments_lexer": "ipython3",
   "version": "3.7.4"
  },
  "varInspector": {
   "cols": {
    "lenName": 16,
    "lenType": 16,
    "lenVar": 40
   },
   "kernels_config": {
    "python": {
     "delete_cmd_postfix": "",
     "delete_cmd_prefix": "del ",
     "library": "var_list.py",
     "varRefreshCmd": "print(var_dic_list())"
    },
    "r": {
     "delete_cmd_postfix": ") ",
     "delete_cmd_prefix": "rm(",
     "library": "var_list.r",
     "varRefreshCmd": "cat(var_dic_list()) "
    }
   },
   "types_to_exclude": [
    "module",
    "function",
    "builtin_function_or_method",
    "instance",
    "_Feature"
   ],
   "window_display": false
  }
 },
 "nbformat": 4,
 "nbformat_minor": 2
}
